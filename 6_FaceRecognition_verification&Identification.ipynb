{
  "cells": [
    {
      "cell_type": "code",
      "execution_count": null,
      "metadata": {
        "id": "3rbUMdbWwLPc"
      },
      "outputs": [],
      "source": [
        "#<start>only for colab users"
      ]
    },
    {
      "cell_type": "code",
      "execution_count": 1,
      "metadata": {
        "id": "UMBdwLcWwLPi",
        "outputId": "2ad648d1-c587-4ccb-8a7f-52ef08c1507d",
        "colab": {
          "base_uri": "https://localhost:8080/"
        }
      },
      "outputs": [
        {
          "output_type": "stream",
          "name": "stdout",
          "text": [
            "Looking in indexes: https://pypi.org/simple, https://us-python.pkg.dev/colab-wheels/public/simple/\n",
            "Collecting mtcnn\n",
            "  Downloading mtcnn-0.1.1-py3-none-any.whl (2.3 MB)\n",
            "\u001b[K     |████████████████████████████████| 2.3 MB 31.7 MB/s \n",
            "\u001b[?25hRequirement already satisfied: opencv-python>=4.1.0 in /usr/local/lib/python3.7/dist-packages (from mtcnn) (4.6.0.66)\n",
            "Requirement already satisfied: keras>=2.0.0 in /usr/local/lib/python3.7/dist-packages (from mtcnn) (2.8.0)\n",
            "Requirement already satisfied: numpy>=1.14.5 in /usr/local/lib/python3.7/dist-packages (from opencv-python>=4.1.0->mtcnn) (1.21.6)\n",
            "Installing collected packages: mtcnn\n",
            "Successfully installed mtcnn-0.1.1\n"
          ]
        }
      ],
      "source": [
        "!pip install mtcnn"
      ]
    },
    {
      "cell_type": "code",
      "execution_count": 2,
      "metadata": {
        "id": "4Leu7FIZwLPj"
      },
      "outputs": [],
      "source": [
        "!mkdir images"
      ]
    },
    {
      "cell_type": "code",
      "execution_count": 3,
      "metadata": {
        "id": "zUKaUfufwLPk",
        "outputId": "933afa4a-710c-490c-e287-18867a22138d",
        "colab": {
          "base_uri": "https://localhost:8080/"
        }
      },
      "outputs": [
        {
          "output_type": "stream",
          "name": "stdout",
          "text": [
            "--2022-09-07 16:39:31--  https://github.com/sajjadranjbar73/deep-face-recognition/raw/master/images/sajjad.jpg\n",
            "Resolving github.com (github.com)... 140.82.113.3\n",
            "Connecting to github.com (github.com)|140.82.113.3|:443... connected.\n",
            "HTTP request sent, awaiting response... 302 Found\n",
            "Location: https://raw.githubusercontent.com/sajjadranjbar73/deep-face-recognition/master/images/sajjad.jpg [following]\n",
            "--2022-09-07 16:39:31--  https://raw.githubusercontent.com/sajjadranjbar73/deep-face-recognition/master/images/sajjad.jpg\n",
            "Resolving raw.githubusercontent.com (raw.githubusercontent.com)... 185.199.108.133, 185.199.109.133, 185.199.110.133, ...\n",
            "Connecting to raw.githubusercontent.com (raw.githubusercontent.com)|185.199.108.133|:443... connected.\n",
            "HTTP request sent, awaiting response... 200 OK\n",
            "Length: 36802 (36K) [image/jpeg]\n",
            "Saving to: ‘images/sajjad.jpg’\n",
            "\n",
            "\rsajjad.jpg            0%[                    ]       0  --.-KB/s               \rsajjad.jpg          100%[===================>]  35.94K  --.-KB/s    in 0s      \n",
            "\n",
            "2022-09-07 16:39:31 (179 MB/s) - ‘images/sajjad.jpg’ saved [36802/36802]\n",
            "\n",
            "--2022-09-07 16:39:31--  https://github.com/sajjadranjbar73/deep-face-recognition/raw/master/images/ali.jpg\n",
            "Resolving github.com (github.com)... 140.82.112.4\n",
            "Connecting to github.com (github.com)|140.82.112.4|:443... connected.\n",
            "HTTP request sent, awaiting response... 302 Found\n",
            "Location: https://raw.githubusercontent.com/sajjadranjbar73/deep-face-recognition/master/images/ali.jpg [following]\n",
            "--2022-09-07 16:39:31--  https://raw.githubusercontent.com/sajjadranjbar73/deep-face-recognition/master/images/ali.jpg\n",
            "Resolving raw.githubusercontent.com (raw.githubusercontent.com)... 185.199.109.133, 185.199.110.133, 185.199.111.133, ...\n",
            "Connecting to raw.githubusercontent.com (raw.githubusercontent.com)|185.199.109.133|:443... connected.\n",
            "HTTP request sent, awaiting response... 200 OK\n",
            "Length: 26255 (26K) [image/jpeg]\n",
            "Saving to: ‘images/ali.jpg’\n",
            "\n",
            "ali.jpg             100%[===================>]  25.64K  --.-KB/s    in 0s      \n",
            "\n",
            "2022-09-07 16:39:31 (154 MB/s) - ‘images/ali.jpg’ saved [26255/26255]\n",
            "\n",
            "--2022-09-07 16:39:31--  https://github.com/sajjadranjbar73/deep-face-recognition/raw/master/images/mohsen.jpg\n",
            "Resolving github.com (github.com)... 140.82.112.4\n",
            "Connecting to github.com (github.com)|140.82.112.4|:443... connected.\n",
            "HTTP request sent, awaiting response... 302 Found\n",
            "Location: https://raw.githubusercontent.com/sajjadranjbar73/deep-face-recognition/master/images/mohsen.jpg [following]\n",
            "--2022-09-07 16:39:31--  https://raw.githubusercontent.com/sajjadranjbar73/deep-face-recognition/master/images/mohsen.jpg\n",
            "Resolving raw.githubusercontent.com (raw.githubusercontent.com)... 185.199.110.133, 185.199.109.133, 185.199.111.133, ...\n",
            "Connecting to raw.githubusercontent.com (raw.githubusercontent.com)|185.199.110.133|:443... connected.\n",
            "HTTP request sent, awaiting response... 200 OK\n",
            "Length: 42108 (41K) [image/jpeg]\n",
            "Saving to: ‘images/mohsen.jpg’\n",
            "\n",
            "mohsen.jpg          100%[===================>]  41.12K  --.-KB/s    in 0.001s  \n",
            "\n",
            "2022-09-07 16:39:31 (49.8 MB/s) - ‘images/mohsen.jpg’ saved [42108/42108]\n",
            "\n",
            "--2022-09-07 16:39:31--  https://github.com/sajjadranjbar73/deep-face-recognition/raw/master/images/farid.jpg\n",
            "Resolving github.com (github.com)... 140.82.112.4\n",
            "Connecting to github.com (github.com)|140.82.112.4|:443... connected.\n",
            "HTTP request sent, awaiting response... 302 Found\n",
            "Location: https://raw.githubusercontent.com/sajjadranjbar73/deep-face-recognition/master/images/farid.jpg [following]\n",
            "--2022-09-07 16:39:31--  https://raw.githubusercontent.com/sajjadranjbar73/deep-face-recognition/master/images/farid.jpg\n",
            "Resolving raw.githubusercontent.com (raw.githubusercontent.com)... 185.199.108.133, 185.199.109.133, 185.199.110.133, ...\n",
            "Connecting to raw.githubusercontent.com (raw.githubusercontent.com)|185.199.108.133|:443... connected.\n",
            "HTTP request sent, awaiting response... 200 OK\n",
            "Length: 42253 (41K) [image/jpeg]\n",
            "Saving to: ‘images/farid.jpg’\n",
            "\n",
            "farid.jpg           100%[===================>]  41.26K  --.-KB/s    in 0.001s  \n",
            "\n",
            "2022-09-07 16:39:32 (50.6 MB/s) - ‘images/farid.jpg’ saved [42253/42253]\n",
            "\n",
            "--2022-09-07 16:39:32--  https://github.com/sajjadranjbar73/deep-face-recognition/raw/master/images/1.jpg\n",
            "Resolving github.com (github.com)... 140.82.112.4\n",
            "Connecting to github.com (github.com)|140.82.112.4|:443... connected.\n",
            "HTTP request sent, awaiting response... 302 Found\n",
            "Location: https://raw.githubusercontent.com/sajjadranjbar73/deep-face-recognition/master/images/1.jpg [following]\n",
            "--2022-09-07 16:39:32--  https://raw.githubusercontent.com/sajjadranjbar73/deep-face-recognition/master/images/1.jpg\n",
            "Resolving raw.githubusercontent.com (raw.githubusercontent.com)... 185.199.108.133, 185.199.109.133, 185.199.110.133, ...\n",
            "Connecting to raw.githubusercontent.com (raw.githubusercontent.com)|185.199.108.133|:443... connected.\n",
            "HTTP request sent, awaiting response... 200 OK\n",
            "Length: 63180 (62K) [image/jpeg]\n",
            "Saving to: ‘images/1.jpg’\n",
            "\n",
            "1.jpg               100%[===================>]  61.70K  --.-KB/s    in 0.001s  \n",
            "\n",
            "2022-09-07 16:39:32 (54.3 MB/s) - ‘images/1.jpg’ saved [63180/63180]\n",
            "\n",
            "--2022-09-07 16:39:32--  https://github.com/sajjadranjbar73/deep-face-recognition/raw/master/images/2.png\n",
            "Resolving github.com (github.com)... 140.82.112.4\n",
            "Connecting to github.com (github.com)|140.82.112.4|:443... connected.\n",
            "HTTP request sent, awaiting response... 404 Not Found\n",
            "2022-09-07 16:39:32 ERROR 404: Not Found.\n",
            "\n",
            "--2022-09-07 16:39:32--  https://github.com/sajjadranjbar73/deep-face-recognition/raw/master/images/mohsen1.png\n",
            "Resolving github.com (github.com)... 140.82.112.4\n",
            "Connecting to github.com (github.com)|140.82.112.4|:443... connected.\n",
            "HTTP request sent, awaiting response... 404 Not Found\n",
            "2022-09-07 16:39:32 ERROR 404: Not Found.\n",
            "\n"
          ]
        }
      ],
      "source": [
        "!wget https://github.com/sajjadranjbar73/deep-face-recognition/raw/master/images/sajjad.jpg -P images\n",
        "!wget https://github.com/sajjadranjbar73/deep-face-recognition/raw/master/images/ali.jpg -P images\n",
        "!wget https://github.com/sajjadranjbar73/deep-face-recognition/raw/master/images/mohsen.jpg -P images\n",
        "!wget https://github.com/sajjadranjbar73/deep-face-recognition/raw/master/images/farid.jpg -P images\n",
        "!wget https://github.com/sajjadranjbar73/deep-face-recognition/raw/master/images/1.jpg -P images\n",
        "!wget https://github.com/sajjadranjbar73/deep-face-recognition/raw/master/images/2.png -P images\n",
        "!wget https://github.com/sajjadranjbar73/deep-face-recognition/raw/master/images/mohsen1.png -P images"
      ]
    },
    {
      "cell_type": "code",
      "execution_count": 7,
      "metadata": {
        "id": "Cnf8-GskwLPl",
        "outputId": "96e42ccf-953d-4d7e-fd80-dd9a2ed3a50e",
        "colab": {
          "base_uri": "https://localhost:8080/"
        }
      },
      "outputs": [
        {
          "output_type": "stream",
          "name": "stdout",
          "text": [
            "--2022-09-07 16:46:21--  https://raw.githubusercontent.com/sajjadranjbar73/deep-face-recognition/master/ArcFace.py\n",
            "Resolving raw.githubusercontent.com (raw.githubusercontent.com)... 185.199.108.133, 185.199.109.133, 185.199.110.133, ...\n",
            "Connecting to raw.githubusercontent.com (raw.githubusercontent.com)|185.199.108.133|:443... connected.\n",
            "HTTP request sent, awaiting response... 200 OK\n",
            "Length: 4043 (3.9K) [text/plain]\n",
            "Saving to: ‘ArcFace.py.1’\n",
            "\n",
            "\rArcFace.py.1          0%[                    ]       0  --.-KB/s               \rArcFace.py.1        100%[===================>]   3.95K  --.-KB/s    in 0s      \n",
            "\n",
            "2022-09-07 16:46:21 (56.2 MB/s) - ‘ArcFace.py.1’ saved [4043/4043]\n",
            "\n"
          ]
        }
      ],
      "source": [
        "!wget https://raw.githubusercontent.com/sajjadranjbar73/deep-face-recognition/master/ArcFace.py"
      ]
    },
    {
      "cell_type": "code",
      "execution_count": null,
      "metadata": {
        "id": "UJuQbaI_wLPm"
      },
      "outputs": [],
      "source": [
        "#<end>only for colab users"
      ]
    },
    {
      "cell_type": "code",
      "execution_count": 8,
      "metadata": {
        "id": "HRRifUc6wLPm"
      },
      "outputs": [],
      "source": [
        "import ArcFace\n",
        "from mtcnn.mtcnn import MTCNN\n",
        "import matplotlib.pyplot as plt\n",
        "import cv2\n",
        "from tensorflow.keras.preprocessing import image\n",
        "import numpy as np\n",
        "%matplotlib inline"
      ]
    },
    {
      "cell_type": "code",
      "execution_count": 9,
      "metadata": {
        "id": "9f3Fr1KpwLPn",
        "outputId": "2b40f6c6-e73f-46d5-a59b-c929364d8b97",
        "colab": {
          "base_uri": "https://localhost:8080/"
        }
      },
      "outputs": [
        {
          "output_type": "stream",
          "name": "stdout",
          "text": [
            "arcface_weights.h5  will be downloaded to  /root/.deepface/weights/arcface_weights.h5\n"
          ]
        },
        {
          "output_type": "stream",
          "name": "stderr",
          "text": [
            "Downloading...\n",
            "From: https://drive.google.com/uc?id=1LVB3CdVejpmGHM28BpqqkbZP5hDEcdZY\n",
            "To: /root/.deepface/weights/arcface_weights.h5\n",
            "100%|██████████| 137M/137M [00:02<00:00, 67.8MB/s]\n"
          ]
        }
      ],
      "source": [
        "model = ArcFace.loadModel()\n",
        "face_detector = MTCNN()"
      ]
    },
    {
      "cell_type": "code",
      "execution_count": 10,
      "metadata": {
        "id": "67y1AeRqwLPo"
      },
      "outputs": [],
      "source": [
        "def detect_face(img):\n",
        "    img_rgb = cv2.cvtColor(img, cv2.COLOR_BGR2RGB) #mtcnn expects RGB but OpenCV read BGR\n",
        "    detections = face_detector.detect_faces(img_rgb)\n",
        "    detection = detections[0]\n",
        "    x, y, w, h = detection[\"box\"]\n",
        "    detected_face = img[int(y):int(y+h), int(x):int(x+w)]\n",
        "    return detected_face"
      ]
    },
    {
      "cell_type": "code",
      "execution_count": 11,
      "metadata": {
        "id": "JUeBb1WPwLPp"
      },
      "outputs": [],
      "source": [
        "def preprocess_face(img, target_size=(112,112)):\n",
        "    img = cv2.imread(img)\n",
        "    img = detect_face(img)\n",
        "    img = cv2.resize(img, target_size)\n",
        "    img_pixels = image.img_to_array(img)\n",
        "    img_pixels = np.expand_dims(img_pixels, axis = 0)\n",
        "    img_pixels /= 255 #normalize input in [0, 1]\n",
        "    return img_pixels"
      ]
    },
    {
      "cell_type": "code",
      "execution_count": 12,
      "metadata": {
        "id": "VgvFkhrSwLPq"
      },
      "outputs": [],
      "source": [
        "def img_to_encoding(path):\n",
        "    img = preprocess_face(path)\n",
        "    return model.predict(img)[0]"
      ]
    },
    {
      "cell_type": "code",
      "execution_count": 19,
      "metadata": {
        "id": "DjM23KoHwLPr"
      },
      "outputs": [],
      "source": [
        "database = {}\n",
        "\n",
        "database[\"sajjad\"] = img_to_encoding(\"./images/sajjad.jpg\")\n",
        "database[\"ali\"] = img_to_encoding(\"./images/ali.jpg\")\n",
        "database[\"mohsen\"] = img_to_encoding(\"./images/mohsen.jpg\")\n",
        "database[\"farid\"] = img_to_encoding(\"./images/farid.jpg\")"
      ]
    },
    {
      "cell_type": "code",
      "execution_count": 14,
      "metadata": {
        "id": "7sfCp_IvwLPs"
      },
      "outputs": [],
      "source": [
        "def EuclideanDistance(source_representation, test_representation):\n",
        "    euclidean_distance = source_representation - test_representation\n",
        "    euclidean_distance = np.sum(np.multiply(euclidean_distance, euclidean_distance))\n",
        "    euclidean_distance = np.sqrt(euclidean_distance)\n",
        "    return euclidean_distance"
      ]
    },
    {
      "cell_type": "code",
      "execution_count": 15,
      "metadata": {
        "id": "ij39xXxRwLPs"
      },
      "outputs": [],
      "source": [
        "verification_threshhold = 4.4"
      ]
    },
    {
      "cell_type": "markdown",
      "metadata": {
        "id": "gchMcFkZwLPt"
      },
      "source": [
        "## Face Verification"
      ]
    },
    {
      "cell_type": "code",
      "execution_count": 16,
      "metadata": {
        "id": "Imql0CixwLPv"
      },
      "outputs": [],
      "source": [
        "def verify(image_path, identity, database):\n",
        "    # Step 1: Compute the encoding for the image. Use img_to_encoding()\n",
        "    encoding = img_to_encoding(image_path) \n",
        "    \n",
        "    # Step 2: Compute distance with identity's image\n",
        "    dist = EuclideanDistance(encoding, database[identity])\n",
        "    \n",
        "    # Step 3: Open the door if dist < verification_threshhold, else don't open\n",
        "    if dist < verification_threshhold:\n",
        "        print(\"It's \" + str(identity) + \", welcome!\")\n",
        "    else:\n",
        "        print(\"It's not \" + str(identity) + \", please go away\")\n",
        "             \n",
        "    return dist"
      ]
    },
    {
      "cell_type": "code",
      "execution_count": 20,
      "metadata": {
        "id": "lq6cx61NwLPy",
        "outputId": "aa98f434-ad80-45d1-f274-d25e4893e516",
        "colab": {
          "base_uri": "https://localhost:8080/"
        }
      },
      "outputs": [
        {
          "output_type": "stream",
          "name": "stdout",
          "text": [
            "It's sajjad, welcome!\n"
          ]
        },
        {
          "output_type": "execute_result",
          "data": {
            "text/plain": [
              "3.579871"
            ]
          },
          "metadata": {},
          "execution_count": 20
        }
      ],
      "source": [
        "verify(\"images/1.jpg\", \"sajjad\", database)"
      ]
    },
    {
      "cell_type": "code",
      "execution_count": 22,
      "metadata": {
        "id": "EAnx0rQ_wLPz",
        "outputId": "e85f5149-1f13-4053-f37f-ff89626e8de3",
        "colab": {
          "base_uri": "https://localhost:8080/"
        }
      },
      "outputs": [
        {
          "output_type": "stream",
          "name": "stdout",
          "text": [
            "It's not sajjad, please go away\n"
          ]
        },
        {
          "output_type": "execute_result",
          "data": {
            "text/plain": [
              "4.9722075"
            ]
          },
          "metadata": {},
          "execution_count": 22
        }
      ],
      "source": [
        "verify(\"images/ali.jpg\", \"sajjad\", database)"
      ]
    },
    {
      "cell_type": "markdown",
      "metadata": {
        "id": "UtngshV6wLP0"
      },
      "source": [
        "## Face Identification"
      ]
    },
    {
      "cell_type": "code",
      "execution_count": 23,
      "metadata": {
        "id": "977WHAjBwLP0"
      },
      "outputs": [],
      "source": [
        "def who_is_it(image_path, database):\n",
        "   \n",
        "    ## Step 1: Compute the target \"encoding\" for the image. Use img_to_encoding()\n",
        "    encoding = img_to_encoding(image_path)\n",
        "    \n",
        "    ## Step 2: Find the closest encoding ##\n",
        "    \n",
        "    # Initialize \"min_dist\" to a large value, say 100 \n",
        "    min_dist = 1000\n",
        "    # Loop over the database dictionary's names and encodings.\n",
        "    for (name, db_enc) in database.items():\n",
        "        # Compute L2 distance between the target \"encoding\" and the current \"emb\" from the database. (≈ 1 line)\n",
        "        dist = EuclideanDistance(encoding, db_enc)\n",
        "\n",
        "        # If this distance is less than the min_dist, then set min_dist to dist, and identity to name. (≈ 3 lines)\n",
        "        if min_dist > dist:\n",
        "            min_dist = dist\n",
        "            identity = name\n",
        "\n",
        "  \n",
        "    if min_dist > verification_threshhold:\n",
        "        print(\"Not in the database.\")\n",
        "    else:\n",
        "        print (\"it's \" + str(identity) + \", the distance is \" + str(min_dist))\n",
        "        \n",
        "    return min_dist, identity"
      ]
    },
    {
      "cell_type": "code",
      "execution_count": null,
      "metadata": {
        "id": "7zmI61UPwLP2"
      },
      "outputs": [],
      "source": [
        "who_is_it(\"images/1.png\", database)"
      ]
    },
    {
      "cell_type": "code",
      "execution_count": null,
      "metadata": {
        "id": "t57OUobpwLP3",
        "outputId": "8f8ff80d-4aca-4f7a-9f70-fbe950ca3d03"
      },
      "outputs": [
        {
          "name": "stdout",
          "output_type": "stream",
          "text": [
            "it's mohsen, the distance is 4.3644657\n"
          ]
        },
        {
          "data": {
            "text/plain": [
              "(4.3644657, 'mohsen')"
            ]
          },
          "execution_count": 24,
          "metadata": {},
          "output_type": "execute_result"
        }
      ],
      "source": [
        "who_is_it(\"images/mohsen1.jpg\", database)"
      ]
    }
  ],
  "metadata": {
    "kernelspec": {
      "display_name": "tf2",
      "language": "python",
      "name": "tf2"
    },
    "language_info": {
      "codemirror_mode": {
        "name": "ipython",
        "version": 3
      },
      "file_extension": ".py",
      "mimetype": "text/x-python",
      "name": "python",
      "nbconvert_exporter": "python",
      "pygments_lexer": "ipython3",
      "version": "3.7.9"
    },
    "colab": {
      "provenance": []
    }
  },
  "nbformat": 4,
  "nbformat_minor": 0
}